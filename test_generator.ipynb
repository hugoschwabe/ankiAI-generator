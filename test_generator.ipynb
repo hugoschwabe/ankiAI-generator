{
 "cells": [
  {
   "cell_type": "code",
   "execution_count": 28,
   "id": "d279de7c",
   "metadata": {},
   "outputs": [
    {
     "data": {
      "text/plain": [
       "<module 'converter' from '/Users/hugoschwabe/Documents/Code/AnkiAI/converter.py'>"
      ]
     },
     "execution_count": 28,
     "metadata": {},
     "output_type": "execute_result"
    }
   ],
   "source": [
    "from importlib import reload\n",
    "\n",
    "import converter\n",
    "reload(converter)"
   ]
  },
  {
   "cell_type": "markdown",
   "id": "a1e05ba9",
   "metadata": {},
   "source": [
    "## Generate Input Data for LLM"
   ]
  },
  {
   "cell_type": "code",
   "execution_count": 4,
   "id": "73eabfea",
   "metadata": {},
   "outputs": [
    {
     "name": "stdout",
     "output_type": "stream",
     "text": [
      "Processing: Lehrvideos.pdf\n"
     ]
    },
    {
     "data": {
      "application/vnd.jupyter.widget-view+json": {
       "model_id": "836e96ae14ae4f4291d9d9dac4c0df28",
       "version_major": 2,
       "version_minor": 0
      },
      "text/plain": [
       "Output()"
      ]
     },
     "metadata": {},
     "output_type": "display_data"
    },
    {
     "data": {
      "text/html": [
       "<pre style=\"white-space:pre;overflow-x:auto;line-height:normal;font-family:Menlo,'DejaVu Sans Mono',consolas,'Courier New',monospace\"></pre>\n"
      ],
      "text/plain": []
     },
     "metadata": {},
     "output_type": "display_data"
    },
    {
     "data": {
      "application/vnd.jupyter.widget-view+json": {
       "model_id": "235456a3beb24e25a8133f2c5bd7339f",
       "version_major": 2,
       "version_minor": 0
      },
      "text/plain": [
       "Output()"
      ]
     },
     "metadata": {},
     "output_type": "display_data"
    },
    {
     "data": {
      "text/html": [
       "<pre style=\"white-space:pre;overflow-x:auto;line-height:normal;font-family:Menlo,'DejaVu Sans Mono',consolas,'Courier New',monospace\">[tesseract] lots of diacritics - possibly poor OCR\n",
       "</pre>\n"
      ],
      "text/plain": [
       "[tesseract] lots of diacritics - possibly poor OCR\n"
      ]
     },
     "metadata": {},
     "output_type": "display_data"
    },
    {
     "data": {
      "text/html": [
       "<pre style=\"white-space:pre;overflow-x:auto;line-height:normal;font-family:Menlo,'DejaVu Sans Mono',consolas,'Courier New',monospace\"></pre>\n"
      ],
      "text/plain": []
     },
     "metadata": {},
     "output_type": "display_data"
    },
    {
     "data": {
      "application/vnd.jupyter.widget-view+json": {
       "model_id": "cc7b54d781394faf9671afdab241dbd7",
       "version_major": 2,
       "version_minor": 0
      },
      "text/plain": [
       "Output()"
      ]
     },
     "metadata": {},
     "output_type": "display_data"
    },
    {
     "data": {
      "text/html": [
       "<pre style=\"white-space:pre;overflow-x:auto;line-height:normal;font-family:Menlo,'DejaVu Sans Mono',consolas,'Courier New',monospace\"></pre>\n"
      ],
      "text/plain": []
     },
     "metadata": {},
     "output_type": "display_data"
    },
    {
     "data": {
      "application/vnd.jupyter.widget-view+json": {
       "model_id": "cf995f82ae84470b870ffa8e10302fa2",
       "version_major": 2,
       "version_minor": 0
      },
      "text/plain": [
       "Output()"
      ]
     },
     "metadata": {},
     "output_type": "display_data"
    },
    {
     "data": {
      "text/html": [
       "<pre style=\"white-space:pre;overflow-x:auto;line-height:normal;font-family:Menlo,'DejaVu Sans Mono',consolas,'Courier New',monospace\"></pre>\n"
      ],
      "text/plain": []
     },
     "metadata": {},
     "output_type": "display_data"
    },
    {
     "data": {
      "application/vnd.jupyter.widget-view+json": {
       "model_id": "e05c319e297148abb0cad280ce35d659",
       "version_major": 2,
       "version_minor": 0
      },
      "text/plain": [
       "Output()"
      ]
     },
     "metadata": {},
     "output_type": "display_data"
    },
    {
     "data": {
      "text/html": [
       "<pre style=\"white-space:pre;overflow-x:auto;line-height:normal;font-family:Menlo,'DejaVu Sans Mono',consolas,'Courier New',monospace\"></pre>\n"
      ],
      "text/plain": []
     },
     "metadata": {},
     "output_type": "display_data"
    },
    {
     "data": {
      "application/vnd.jupyter.widget-view+json": {
       "model_id": "0cc262e761dc4ced9be9d543bbd7d1f1",
       "version_major": 2,
       "version_minor": 0
      },
      "text/plain": [
       "Output()"
      ]
     },
     "metadata": {},
     "output_type": "display_data"
    },
    {
     "data": {
      "text/html": [
       "<pre style=\"white-space:pre;overflow-x:auto;line-height:normal;font-family:Menlo,'DejaVu Sans Mono',consolas,'Courier New',monospace\"></pre>\n"
      ],
      "text/plain": []
     },
     "metadata": {},
     "output_type": "display_data"
    },
    {
     "data": {
      "application/vnd.jupyter.widget-view+json": {
       "model_id": "fbbd26891e6046199482eb35bee2a201",
       "version_major": 2,
       "version_minor": 0
      },
      "text/plain": [
       "Output()"
      ]
     },
     "metadata": {},
     "output_type": "display_data"
    },
    {
     "data": {
      "text/html": [
       "<pre style=\"white-space:pre;overflow-x:auto;line-height:normal;font-family:Menlo,'DejaVu Sans Mono',consolas,'Courier New',monospace\"></pre>\n"
      ],
      "text/plain": []
     },
     "metadata": {},
     "output_type": "display_data"
    },
    {
     "name": "stderr",
     "output_type": "stream",
     "text": [
      "The output file size is 3.75× larger than the input file.\n",
      "Possible reasons for this include:\n",
      "--force-ocr was issued, causing transcoding.\n",
      "The optional dependency 'jbig2' was not found, so some image optimizations could not be attempted.\n",
      "The optional dependency 'pngquant' was not found, so some image optimizations could not be attempted.\n",
      "PDF/A conversion was enabled. (Try `--output-type pdf`.)\n",
      "\n"
     ]
    },
    {
     "name": "stdout",
     "output_type": "stream",
     "text": [
      "-> Done: Lehrvideos.txt\n",
      "All Files Processed!\n",
      "\n"
     ]
    }
   ],
   "source": [
    "converter.generate_data()"
   ]
  },
  {
   "cell_type": "code",
   "execution_count": 17,
   "id": "d69b4d05",
   "metadata": {},
   "outputs": [
    {
     "name": "stdout",
     "output_type": "stream",
     "text": [
      "Reading input files...\n",
      "  - Read Lehrvideos.txt: 45163 characters.\n"
     ]
    }
   ],
   "source": [
    "data = converter.read_data()"
   ]
  },
  {
   "cell_type": "markdown",
   "id": "358925bf",
   "metadata": {},
   "source": [
    "## LLM Inference"
   ]
  },
  {
   "cell_type": "markdown",
   "id": "b2009971",
   "metadata": {},
   "source": [
    "#### Retrieve Information from Input Data"
   ]
  },
  {
   "cell_type": "code",
   "execution_count": 20,
   "id": "6498aef3",
   "metadata": {},
   "outputs": [
    {
     "name": "stdout",
     "output_type": "stream",
     "text": [
      "Extracting facts from input file...\n",
      "Processing item 1/1: 'Lehrvideos.txt'...\n",
      "  - Processing chunk 1/3...\n",
      "  - Processing chunk 2/3...\n",
      "  - Processing chunk 3/3...\n",
      "  - Finished item 'Lehrvideos.txt'.\n"
     ]
    }
   ],
   "source": [
    "facts = converter.generate_text(converter.prompts[\"prompt_all\"], data, \"Extracting facts from input file...\")"
   ]
  },
  {
   "cell_type": "markdown",
   "id": "80749df7",
   "metadata": {},
   "source": [
    "#### Create Flashcards from Information"
   ]
  },
  {
   "cell_type": "code",
   "execution_count": 22,
   "id": "90f6b71d",
   "metadata": {},
   "outputs": [
    {
     "name": "stdout",
     "output_type": "stream",
     "text": [
      "Generating flashcards from extracted facts...\n",
      "Processing item 1/1: 'Lehrvideos.txt'...\n",
      "  - Processing chunk 1/1...\n",
      "  - Finished item 'Lehrvideos.txt'.\n"
     ]
    }
   ],
   "source": [
    "res = converter.generate_text(converter.f_prompts[\"f_prompt_all\"], facts, \"Generating flashcards from extracted facts...\")"
   ]
  },
  {
   "cell_type": "markdown",
   "id": "884e2adb",
   "metadata": {},
   "source": [
    "## Save the Flashcards"
   ]
  },
  {
   "cell_type": "code",
   "execution_count": 29,
   "id": "59e60eae",
   "metadata": {},
   "outputs": [
    {
     "name": "stdout",
     "output_type": "stream",
     "text": [
      "Saving flashcards for 1 source file(s)...\n",
      "    Successfully created 168 flash cards in ./output/anki_Lehrvideos.txt.\n"
     ]
    }
   ],
   "source": [
    "converter.save_card(res)"
   ]
  }
 ],
 "metadata": {
  "kernelspec": {
   "display_name": "venv",
   "language": "python",
   "name": "python3"
  },
  "language_info": {
   "codemirror_mode": {
    "name": "ipython",
    "version": 3
   },
   "file_extension": ".py",
   "mimetype": "text/x-python",
   "name": "python",
   "nbconvert_exporter": "python",
   "pygments_lexer": "ipython3",
   "version": "3.13.5"
  }
 },
 "nbformat": 4,
 "nbformat_minor": 5
}
