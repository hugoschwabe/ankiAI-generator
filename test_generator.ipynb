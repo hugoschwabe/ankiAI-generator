{
 "cells": [
  {
   "cell_type": "code",
   "execution_count": 1,
   "id": "d279de7c",
   "metadata": {},
   "outputs": [],
   "source": [
    "import os\n",
    "import ocrmypdf\n",
    "from google import genai\n",
    "import chardet\n",
    "from pathlib import Path\n",
    "import time"
   ]
  },
  {
   "cell_type": "code",
   "execution_count": 6,
   "id": "6487cf66",
   "metadata": {},
   "outputs": [],
   "source": [
    "# Replace API_KEY with your personal key\n",
    "API_KEY = open(\"keyfile.txt\", \"r\").read()"
   ]
  },
  {
   "cell_type": "code",
   "execution_count": 10,
   "id": "fe51d26c",
   "metadata": {},
   "outputs": [],
   "source": [
    "OCR_INPUT = \"./ocr_input\"      # Input folder for pdf files\n",
    "OCR_OUTPUT = \"./ocr_output\"\n",
    "LLM_INPUT = \"./llm_input\"   # Output folder for pdf and txt files\n",
    "LLM_OUTPUT = \"./llm_output\"   # Output folder for pdf and txt files\n",
    "LANGUAGE = \"deu\"             # OCR language: deu = German, eng = English, etc."
   ]
  },
  {
   "cell_type": "markdown",
   "id": "a1e05ba9",
   "metadata": {},
   "source": [
    "## Generate Input Data for LLM"
   ]
  },
  {
   "cell_type": "code",
   "execution_count": null,
   "id": "73eabfea",
   "metadata": {},
   "outputs": [],
   "source": [
    "# Find all pdf files in input folder\n",
    "for filename in os.listdir(OCR_INPUT):\n",
    "    if filename.lower().endswith(\".pdf\"):\n",
    "        pdf_path = os.path.join(OCR_INPUT, filename)\n",
    "        output_pdf_path = os.path.join(OCR_OUTPUT, filename)  # optional\n",
    "        txt_filename = os.path.splitext(filename)[0] + \".txt\"\n",
    "        txt_path = os.path.join(OCR_OUTPUT, txt_filename)\n",
    "\n",
    "        print(f\"Processing: {filename}\")\n",
    "        \n",
    "        try:\n",
    "            ocrmypdf.ocr(\n",
    "                pdf_path,\n",
    "                output_pdf_path,\n",
    "                sidecar=txt_path,\n",
    "                language=LANGUAGE,\n",
    "                force_ocr=True  # Falls PDF schon Text hat, trotzdem neu erkennen\n",
    "            )\n",
    "            print(f\"-> Done: {txt_filename}\")\n",
    "        except Exception as e:\n",
    "            print(f\"Error at {filename}: {e}\")\n",
    "\n",
    "print(\"All Files Processed!\")\n"
   ]
  },
  {
   "cell_type": "code",
   "execution_count": null,
   "id": "5c0287bb",
   "metadata": {},
   "outputs": [],
   "source": [
    "\"\"\"def convert_to_utf8(input_path, output_path):\n",
    "    # Load binaries of file\n",
    "    raw_bytes = Path(input_path).read_bytes()\n",
    "\n",
    "    # Recognize encoding\n",
    "    detection = chardet.detect(raw_bytes)\n",
    "    encoding = detection[\"encoding\"] or \"utf-8\"\n",
    "    print(f\"Detected encoding: {encoding}\")\n",
    "\n",
    "    # Decode (replace unsafe chars)\n",
    "    decoded_text = raw_bytes.decode(encoding, errors=\"replace\")\n",
    "\n",
    "    # Repair Mojibake\n",
    "    cleaned_text = fix_text(decoded_text)\n",
    "\n",
    "    cleaned_text = re.findall(\"\\w\", cleaned_text, re.ASCII)\n",
    "\n",
    "    # Save as UTF-8\n",
    "    Path(output_path).write_text(cleaned_text, encoding=\"utf-8\")\n",
    "    print(f\"Saved UTF-8 encoded file to: {output_path}\")\"\"\"\n"
   ]
  },
  {
   "cell_type": "code",
   "execution_count": 11,
   "id": "d69b4d05",
   "metadata": {},
   "outputs": [
    {
     "name": "stdout",
     "output_type": "stream",
     "text": [
      "Detected encoding: utf-8\n",
      "Lehrvideos.txt: 45163 characters\n"
     ]
    }
   ],
   "source": [
    "data = []\n",
    "for filename in os.listdir(LLM_INPUT):\n",
    "\tpath = os.path.join(LLM_INPUT, filename)\n",
    "\t# Load binaries of file\n",
    "\traw_bytes = Path(LLM_INPUT+\"/\"+str(filename)).read_bytes()\n",
    "    # Recognize encoding\n",
    "\tencoding = chardet.detect(raw_bytes)[\"encoding\"] or \"utf-8\"\n",
    "\tprint(f\"Detected encoding: {encoding}\")\n",
    "    # Decode (replace unsafe chars)\n",
    "\tdecoded = raw_bytes.decode(encoding, errors=\"replace\")\n",
    "\tprint(filename+\": \"+str(len(decoded))+\" characters\")\n",
    "\tfor i in range(int(len(decoded)/20000)+1):\n",
    "\t\tdata.append(decoded[i*20000:(i+1)*20000])"
   ]
  },
  {
   "cell_type": "markdown",
   "id": "358925bf",
   "metadata": {},
   "source": [
    "## LLM Inference"
   ]
  },
  {
   "cell_type": "code",
   "execution_count": 12,
   "id": "6453146c",
   "metadata": {},
   "outputs": [],
   "source": [
    "# Set API Key\n",
    "client = genai.Client(api_key=API_KEY)\n",
    "\n",
    "# API Call\n",
    "def generate_text(prompt_text:str) -> str:\n",
    "    \"\"\"Generates text response using the configured Gemini model.\"\"\"\n",
    "    response = client.models.generate_content(\n",
    "        model=\"gemini-2.5-flash-preview-04-17\",\n",
    "        contents=prompt_text,\n",
    "        config=genai.types.GenerateContentConfig(\n",
    "            thinking_config=genai.types.ThinkingConfig(\n",
    "            thinking_budget=4096\n",
    "            )\n",
    "        )\n",
    "    )\n",
    "    print(\"Prompt tokens:\",response.usage_metadata.prompt_token_count,\n",
    "          \"| Thoughts tokens:\",response.usage_metadata.thoughts_token_count,\n",
    "          \"| Output tokens:\",response.usage_metadata.candidates_token_count,\n",
    "          \"| Total tokens:\",response.usage_metadata.total_token_count)\n",
    "\n",
    "    return response.text"
   ]
  },
  {
   "cell_type": "markdown",
   "id": "b2009971",
   "metadata": {},
   "source": [
    "#### Retrieve Information from Input Data"
   ]
  },
  {
   "cell_type": "code",
   "execution_count": 13,
   "id": "210469ef",
   "metadata": {},
   "outputs": [
    {
     "name": "stdout",
     "output_type": "stream",
     "text": [
      "Prompt tokens: 6169 | Thoughts tokens: 1968 | Output tokens: 323 | Total tokens: 8460\n",
      "Prompt tokens: 5517 | Thoughts tokens: 2343 | Output tokens: 388 | Total tokens: 8248\n",
      "Prompt tokens: 1654 | Thoughts tokens: 1693 | Output tokens: 113 | Total tokens: 3460\n",
      "Strategische Spiele sind 2-Spieler, feindliche, sequentielle Spiele mit perfekter Information.///Spielbäume repräsentieren die Zustände und möglichen Züge in strategischen Spielen.///Das Minimax-Prinz\n"
     ]
    }
   ],
   "source": [
    "prompt = \"\"\"Du erhälst die Inhalte einer Vorlseung an einer Universität als Eingabestring.\n",
    "\tDu sollst die Vorlesung zusammenfassen, indem du ausschließlich akademisch und thematisch wichtigen Fakten im Bezug zum Oberthema als String zurückgibst.\n",
    "\tDabei kann es sich beispielsweise um Definitionen von Fachbegriffen, Einführung in Konzepte oder Beispiele handeln. \n",
    "\tDas Format des Rückgabestrings ist: Fakt1///Fakt2///Fakt3.\n",
    "\tSei präzise und verzichte auf alles, was nicht zu diesen Faketen gehört.\n",
    "\tEs folgt der Eingabestring: \n",
    "\t\"\"\"\n",
    "prompt_all = \"\"\"Du erhälst die Inhalte einer Vorlseung an einer Universität als Eingabestring.\n",
    "\tDu sollst die Vorlesung zusammenfassen, indem du alle akademisch und thematisch wichtigen Fakten im Bezug zum Oberthema als String zurückgibst.\n",
    "\tDas Format des Rückgabestrings ist: Fakt1///Fakt2///Fakt3.\n",
    "\tSei präzise und verzichte auf alles, was nicht zu diesen Faketen gehört.\n",
    "\tEs folgt der Eingabestring: \n",
    "\t\"\"\"\n",
    "\n",
    "facts=\"\"\n",
    "for elem in data:\n",
    "\tfacts += generate_text(prompt_all+elem)\n",
    "\ttime.sleep(10)\n",
    "print(facts[:200])"
   ]
  },
  {
   "cell_type": "markdown",
   "id": "80749df7",
   "metadata": {},
   "source": [
    "#### Create Flashcards from Information"
   ]
  },
  {
   "cell_type": "code",
   "execution_count": 14,
   "id": "3bd1b041",
   "metadata": {},
   "outputs": [
    {
     "name": "stdout",
     "output_type": "stream",
     "text": [
      "Prompt tokens: 1005 | Thoughts tokens: 3661 | Output tokens: 1024 | Total tokens: 5690\n",
      "Was sind die Merkmale strategischer Spiele?;Strategische Spiele sind 2-Spieler feindliche sequentielle Spiele mit perfekter Information.\n",
      "Was repräsentieren Spielbäume?;Spielbäume repräsentieren Zustän\n"
     ]
    }
   ],
   "source": [
    "f_prompt = \"\"\"Eine Karteikarte besteht aus genau einer Frage und einer Antwort.\n",
    "\tDu sollst Karteikarten erstellen aus den Informationen im Eingabestring.\n",
    "\tBasierend auf diesem String sollst du alle sinnvollen Fragen stellen, die man zu den akademischen Inhalten stellen kann, und diese beantworten.\n",
    "\tJede Zeile deiner Ausgabe muss folgendem Format entsprechen:  Frage1;Antwort1///Frage2;Antwort2///Frage3;Antwort3.\n",
    "\tVerwende keine Semikolons in der Frage oder in der Antwort.\n",
    "\tBeginne Fragen und Antworten direkt, nicht mit dem Wort Frage oder Antwort.\n",
    "\tHalte dich strikt an das Format Frage1;Antwort1///Frage2;Antwort2///Frage3;Antwort3\n",
    "\tEs folgt der Eingabestring: \n",
    "\"\"\"\n",
    "f_prompt_all = \"\"\"Du sollst Karteikarten erstellen aus den Informationen im Eingabestring.\n",
    "\tDer Eingabestring besteht aus Fakten im Format: Fakt1///Fakt2///Fakt3.\n",
    "\tFür jeden Fakt im Eingabestring sollst du mindestens eine sinnvolle Frage stellen und diese beantworten.\n",
    "\tJede Zeile deiner Ausgabe muss folgendem Format entsprechen:  Frage1;Antwort1///Frage2;Antwort2///Frage3;Antwort3.\n",
    "\tVerwende keine Semikolons in der Frage oder in der Antwort.\n",
    "\tBeginne Fragen und Antworten direkt, nicht mit dem Wort Frage oder Antwort.\n",
    "\tHalte dich strikt an das Format Frage1;Antwort1///Frage2;Antwort2///Frage3;Antwort3\n",
    "\tEs folgt der Eingabestring: \n",
    "\"\"\"\n",
    "\n",
    "res = \"\"\n",
    "for elem in [facts]:\n",
    "\tres += generate_text(f_prompt_all+elem)\n",
    "\ttime.sleep(10)\n",
    "print(res[:200])"
   ]
  },
  {
   "cell_type": "code",
   "execution_count": 16,
   "id": "90f6b71d",
   "metadata": {},
   "outputs": [
    {
     "name": "stdout",
     "output_type": "stream",
     "text": [
      "Successfully created 42 flash cards.\n"
     ]
    }
   ],
   "source": [
    "res_list = res.replace(\"\\n\", \"///\").replace(\" /// \", \"///\").split(\"///\")\n",
    "f = open(LLM_OUTPUT+\"/\"+str(filename)[:-4]+\"_anki.txt\", \"w\")\n",
    "failed = 0\n",
    "for elem in res_list:\n",
    "\ttry:\n",
    "\t\tquestion, answer = elem.split(\";\")\n",
    "\t\tif question[-1:] != \"?\":\n",
    "\t\t\tquestion += \"?\"\n",
    "\t\tif answer[-1:] != \".\":\n",
    "\t\t\tanswer += \".\"\n",
    "\t\tf.write(question+\";\"+answer+\"\\n\")\n",
    "\texcept:\n",
    "\t\tfailed += 1\n",
    "f.close()\n",
    "if failed > 0:\n",
    "\tprint(\"failed to write \"+str(failed)+\" elements.\")\n",
    "else:\n",
    "\tprint(\"Successfully created \"+str(len(res_list))+\" flash cards.\")"
   ]
  }
 ],
 "metadata": {
  "kernelspec": {
   "display_name": "venv",
   "language": "python",
   "name": "python3"
  },
  "language_info": {
   "codemirror_mode": {
    "name": "ipython",
    "version": 3
   },
   "file_extension": ".py",
   "mimetype": "text/x-python",
   "name": "python",
   "nbconvert_exporter": "python",
   "pygments_lexer": "ipython3",
   "version": "3.13.3"
  }
 },
 "nbformat": 4,
 "nbformat_minor": 5
}
